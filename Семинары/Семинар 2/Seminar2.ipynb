{
 "cells": [
  {
   "cell_type": "markdown",
   "metadata": {},
   "source": [
    "# Одномерная линейная регрессия\n",
    "\n",
    "1. Выведите формулу обновления весов одномерной линейной регрессии методом градиентного спуска.\n",
    "\n",
    "2. Напишите функцию, релизующую обучение одномерной линейной регрессии методом градиентного спуска."
   ]
  },
  {
   "cell_type": "code",
   "execution_count": null,
   "metadata": {},
   "outputs": [],
   "source": [
    "def linear_regression(X, y_true, m=0, b=0, epochs=1000, learning_rate=0.0001):\n",
    "    N = float(len(y_true))\n",
    "    for i in range(epochs):\n",
    "        y_pred = m * X + b\n",
    "        cost = #your code here\n",
    "        \n",
    "        m_gradient = #your code here\n",
    "        b_gradient = #your code here\n",
    "        \n",
    "        m = #your code here\n",
    "        b = #your code here\n",
    "            \n",
    "    return m, b, cost"
   ]
  },
  {
   "cell_type": "markdown",
   "metadata": {},
   "source": [
    "## Сгенерируем точки для задачи регрессии"
   ]
  },
  {
   "cell_type": "code",
   "execution_count": null,
   "metadata": {},
   "outputs": [],
   "source": [
    "import random\n",
    "import numpy as np\n",
    "import pandas as pd\n",
    "from matplotlib import pylab as plt\n",
    "%pylab inline\n",
    "\n",
    "num_points = 100\n",
    "m, b, delta = 1, 0, 1\n",
    "\n",
    "x = np.array([random.uniform(1, 9) for i in range(num_points)])\n",
    "y = np.array([random.uniform(m * x + b - delta, m * x + b + delta) for x in x])\n",
    "\n",
    "plt.scatter(x, y)"
   ]
  },
  {
   "cell_type": "markdown",
   "metadata": {},
   "source": [
    "### Обучим нашу линейную регрессию и посмотрим на результат"
   ]
  },
  {
   "cell_type": "code",
   "execution_count": null,
   "metadata": {},
   "outputs": [],
   "source": [
    "m, b, cost = linear_regression(x,y)\n",
    "\n",
    "x_pr = np.arange(1, 10, 0.1)\n",
    "y_pr = m * x_pr + b\n",
    "\n",
    "plt.scatter(x, y, color='blue')\n",
    "plt.plot(x_pr, y_pr, '.r')\n",
    "\n",
    "print('MSE: {}'.format(cost))"
   ]
  },
  {
   "cell_type": "markdown",
   "metadata": {},
   "source": [
    "# Задание 1\n",
    "\n",
    "Поэкспериментируйте с количеством шагов (epochs) и learning rate.\n",
    "Как меняется итоговая ошибка при фиксированном числе шагов и различных learning rate?\n",
    "\n",
    "1) Постройте графики для learning rate = 0.1, 0.01, 0.0001 и epochs = 10, 100, 1000 (всего 9 графиков).\n",
    "Рядом с каждым графиком выведите ошибку (cost).\n",
    "\n",
    "2) Прокомментируйте каждый график: ответьте на вопрос, почему вы видите именно такую прямую?"
   ]
  },
  {
   "cell_type": "code",
   "execution_count": null,
   "metadata": {
    "scrolled": false
   },
   "outputs": [],
   "source": [
    "#your code here"
   ]
  },
  {
   "cell_type": "markdown",
   "metadata": {},
   "source": [
    "# Задание 2\n",
    "\n",
    "Подумайте, как применить написанную функцию линейной регрессии для аппроксимации следующего набора точек. Решите эту задачу. Выведите на экран итоговое приближение (график) и ошибку."
   ]
  },
  {
   "cell_type": "code",
   "execution_count": null,
   "metadata": {},
   "outputs": [],
   "source": [
    "num_points = 100\n",
    "m, b, delta = 10, 0, 1\n",
    "\n",
    "x = np.array([random.uniform(1, 9) for i in range(num_points)])\n",
    "y = np.array([random.uniform(m * x * x + b - delta, m * x * x + b + delta) for x in x])\n",
    "\n",
    "plt.scatter(x, y)"
   ]
  },
  {
   "cell_type": "code",
   "execution_count": null,
   "metadata": {},
   "outputs": [],
   "source": [
    "m, b, cost = # your code here\n",
    "\n",
    "x_pr = np.arange(0, 10, 0.1)\n",
    "y_pr = # your code here\n",
    "\n",
    "plt.scatter(x, y, c='b')\n",
    "plt.scatter(x_pr, y_pr, c='r')\n",
    "\n",
    "plt.show()"
   ]
  },
  {
   "cell_type": "markdown",
   "metadata": {},
   "source": [
    "# Задание 3\n",
    "\n",
    "Считайте файл weights_heights.csv"
   ]
  },
  {
   "cell_type": "code",
   "execution_count": null,
   "metadata": {},
   "outputs": [],
   "source": [
    "df = #your code here\n",
    "df.head()"
   ]
  },
  {
   "cell_type": "markdown",
   "metadata": {},
   "source": [
    "Разобъем данные на тренировочную и валидационную часть и обучим линейную регрессию на тренировочной части (используйте функцию linear_regression для обучения)"
   ]
  },
  {
   "cell_type": "code",
   "execution_count": null,
   "metadata": {},
   "outputs": [],
   "source": [
    "from sklearn.model_selection import train_test_split\n",
    "\n",
    "X_train, X_test, y_train, y_test = train_test_split(df['Height'], df['Weight'], test_size=0.2)\n",
    "\n",
    "m, b, cost = linear_regression(X_train, y_train, learning_rate=0.00001)"
   ]
  },
  {
   "cell_type": "markdown",
   "metadata": {},
   "source": [
    "Сделаем предсказание на тренировочной и тестовой части по формуле y=mx+b.\n",
    "\n",
    "Вычислим MSE на train и на test."
   ]
  },
  {
   "cell_type": "code",
   "execution_count": null,
   "metadata": {},
   "outputs": [],
   "source": [
    "from sklearn.metrics import mean_squared_error\n",
    "\n",
    "pred_train = m * X_train + b\n",
    "pred_test = m * X_test + b\n",
    "\n",
    "print(\"Train MSE: {}\".format(mean_squared_error(y_train, pred_train)))\n",
    "print(\"Test MSE: {}\".format(mean_squared_error(y_test, pred_test)))"
   ]
  },
  {
   "cell_type": "markdown",
   "metadata": {},
   "source": [
    "# Теперь проверим, как работает функция линейной регрессии из sklearn"
   ]
  },
  {
   "cell_type": "code",
   "execution_count": null,
   "metadata": {},
   "outputs": [],
   "source": [
    "from sklearn.linear_model import LinearRegression\n",
    "\n",
    "X_train2 = X_train.values.reshape(-1,1)\n",
    "X_test2 = X_test.values.reshape(-1,1)\n",
    "\n",
    "lr = LinearRegression()\n",
    "lr.fit(X_train2,y_train)\n",
    "\n",
    "pred_train = lr.predict(X_train2)\n",
    "pred_test = lr.predict(X_test2)\n",
    "\n",
    "print(\"Train MSE: {}\".format(mean_squared_error(y_train, pred_train)))\n",
    "print(\"Test MSE: {}\".format(mean_squared_error(y_test, pred_test)))"
   ]
  },
  {
   "cell_type": "markdown",
   "metadata": {},
   "source": [
    "Посмотрим на качество линейной регрессии на кросс-валидации."
   ]
  },
  {
   "cell_type": "code",
   "execution_count": null,
   "metadata": {},
   "outputs": [],
   "source": [
    "from sklearn.model_selection import cross_val_score\n",
    "\n",
    "print(-cross_val_score(lr, df[['Height']], df['Weight'], cv=5, scoring='neg_mean_squared_error').mean())"
   ]
  },
  {
   "cell_type": "markdown",
   "metadata": {},
   "source": [
    "# Задание 4\n",
    "\n",
    "Поработаем с датасетом Бостон."
   ]
  },
  {
   "cell_type": "code",
   "execution_count": null,
   "metadata": {
    "scrolled": true
   },
   "outputs": [],
   "source": [
    "from sklearn.datasets import load_boston\n",
    "\n",
    "data = load_boston()\n",
    "print(data.DESCR)"
   ]
  },
  {
   "cell_type": "code",
   "execution_count": null,
   "metadata": {},
   "outputs": [],
   "source": [
    "X_full = data.data\n",
    "y_full = data.target\n",
    "\n",
    "y_full[:5]"
   ]
  },
  {
   "cell_type": "markdown",
   "metadata": {},
   "source": [
    "Посмотрите на качество линейной регрессии (из sklearn) на кросс-валидации с тремя фолдами, измеряйте ошибку MSE."
   ]
  },
  {
   "cell_type": "code",
   "execution_count": null,
   "metadata": {},
   "outputs": [],
   "source": [
    "#your code here"
   ]
  },
  {
   "cell_type": "markdown",
   "metadata": {},
   "source": [
    "Разбейте данные на train и test. Обучите линейную регрессию на train и сделайте предсказание на train и test.\n",
    "\n",
    "Выведите MSE на train и на test."
   ]
  },
  {
   "cell_type": "code",
   "execution_count": null,
   "metadata": {},
   "outputs": [],
   "source": [
    "#your code here"
   ]
  },
  {
   "cell_type": "markdown",
   "metadata": {},
   "source": [
    "Нарисуем матрицу корреляций признаков."
   ]
  },
  {
   "cell_type": "code",
   "execution_count": null,
   "metadata": {},
   "outputs": [],
   "source": [
    "import seaborn as sns\n",
    "\n",
    "data1 = pd.DataFrame(data= np.c_[data['data'], data['target']],\n",
    "                     columns= list(data['feature_names']) + ['target'])\n",
    "\n",
    "plt.figure(figsize=(10,10))\n",
    "corr = data1.corr()\n",
    "sns.heatmap(corr,annot=True,linewidths=.5, fmt= '.2f',mask=np.zeros_like(corr, dtype=np.bool), \\\n",
    "            cmap=sns.diverging_palette(100,200, as_cmap=True), square=True)"
   ]
  },
  {
   "cell_type": "markdown",
   "metadata": {},
   "source": [
    "Попробуйте убрать из данных признаки с наименьшей корреляцией с target (1, 2 или 3 признака) и обучить линейную регрессию на оставшихся признаках. Как изменилось качество?"
   ]
  },
  {
   "cell_type": "code",
   "execution_count": null,
   "metadata": {},
   "outputs": [],
   "source": [
    "#your code here"
   ]
  }
 ],
 "metadata": {
  "kernelspec": {
   "display_name": "Python 3",
   "language": "python",
   "name": "python3"
  },
  "language_info": {
   "codemirror_mode": {
    "name": "ipython",
    "version": 3
   },
   "file_extension": ".py",
   "mimetype": "text/x-python",
   "name": "python",
   "nbconvert_exporter": "python",
   "pygments_lexer": "ipython3",
   "version": "3.7.6"
  }
 },
 "nbformat": 4,
 "nbformat_minor": 2
}
